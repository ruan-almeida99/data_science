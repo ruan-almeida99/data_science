{
 "cells": [
  {
   "cell_type": "markdown",
   "id": "e7150846-a2b5-4aba-99fd-d8ea719019e8",
   "metadata": {},
   "source": [
    "## **APLICANDO NAIVE BAYES**\n",
    "---"
   ]
  },
  {
   "cell_type": "markdown",
   "id": "248e196b-7277-4488-9f33-22b1fcae21b3",
   "metadata": {},
   "source": [
    "#### **Import LIBS**"
   ]
  },
  {
   "cell_type": "code",
   "execution_count": 11,
   "id": "d0e15b86-e79c-4875-96b4-57e30a0f7ea8",
   "metadata": {},
   "outputs": [],
   "source": [
    "import numpy as np\n",
    "import pandas as pd\n",
    "from sklearn.naive_bayes import MultinomialNB\n",
    "from sklearn.feature_extraction.text import CountVectorizer"
   ]
  },
  {
   "cell_type": "markdown",
   "id": "06ab3150-3790-4109-882f-6175013eb37c",
   "metadata": {},
   "source": [
    "#### **Import Data**"
   ]
  },
  {
   "cell_type": "code",
   "execution_count": 6,
   "id": "ea8697c5-5ad2-4182-92c6-1dde29c11b82",
   "metadata": {},
   "outputs": [
    {
     "name": "stdout",
     "output_type": "stream",
     "text": [
      "                                                Frase  Classe\n",
      "0                                  Serviço muito bom!       1\n",
      "1                  Gostei, recomendo muito o serviço.       1\n",
      "2                Nota 10,  me surpreendeu como é bom!       1\n",
      "3               Muito ruim,  não recomendo a ninguém.       0\n",
      "4       Péssimo,  não atendeu as minhas expectativas.       0\n",
      "5   Muito lento,  muito caro e não atende o que cu...       0\n",
      "6     Muito rápido,  gostei e recomendo a utilização!       1\n",
      "7   Resposta muito rápida,  atendimento de qualida...       1\n",
      "8                Horrível,  não comprem esse serviço.       0\n",
      "9               Atendimento péssimo de mal qualidade.       0\n",
      "10  Queria meu dinheiro de volta, sem qualidade, m...       0\n",
      "11         Recomendo a todos!  Ótimo custo beneficio!       1\n"
     ]
    }
   ],
   "source": [
    "# Importar arquivo csv com as avaliações.\n",
    "\n",
    "df = pd.read_csv('avaliacoesProduto.csv')\n",
    "print(df)"
   ]
  },
  {
   "cell_type": "code",
   "execution_count": 21,
   "id": "519e6b00-a26b-4b2f-9b65-4d65b9158963",
   "metadata": {},
   "outputs": [],
   "source": [
    "# Separando o conjunto de treinamento.\n",
    "\n",
    "frase = df['Frase']\n",
    "classe = df['Classe']"
   ]
  },
  {
   "cell_type": "markdown",
   "id": "f7712c7e-2e32-45f7-a91f-65fd627c3e55",
   "metadata": {},
   "source": [
    "### **Treinando modelo**"
   ]
  },
  {
   "cell_type": "markdown",
   "id": "a2823b9a-15e4-4858-8f37-fcd1f5567bc9",
   "metadata": {},
   "source": [
    "#### **Processo de vetorização do texto**"
   ]
  },
  {
   "cell_type": "markdown",
   "id": "480cd76d-94a3-44c0-b0a2-f08900cec716",
   "metadata": {},
   "source": [
    "#### https://scikit-learn.org/stable/modules/generated/sklearn.feature_extraction.text.CountVectorizer.html"
   ]
  },
  {
   "cell_type": "code",
   "execution_count": 299,
   "id": "bddecad8-fc9d-45ff-ac14-8a52baffe411",
   "metadata": {},
   "outputs": [
    {
     "name": "stdout",
     "output_type": "stream",
     "text": [
      "['10', 'atende', 'atendeu', 'atendimento', 'beneficio', 'bom', 'caro', 'como', 'comprem', 'cumpre', 'custo', 'dinheiro', 'enganação', 'expectativas', 'gostei', 'horrível', 'lento', 'mal', 'meu', 'minhas', 'muita', 'ninguém', 'não', 'péssimo', 'qualidade', 'queria', 'recomendo', 'resposta', 'ruim', 'rápida', 'rápido', 'sem', 'serviço', 'surpreendeu', 'todos', 'utilização', 'volta', 'ótimo']\n"
     ]
    }
   ],
   "source": [
    "# CountVectorizer converte uma coleção de documentos de texto em uma matriz de contagens de token.\n",
    "# Utilizando o parâmetro \"stop_words\" do CountVectorizer para selecionar as palavras que devem ser retiradas do treinamento e das predições.\n",
    "# Retiramos principalmente os conectores textuais que não possuem caracteristica de positivo ou negativo e só poluiriam nosso modelo.\n",
    "vectorizer = CountVectorizer(stop_words=['o','a','os','as','e','é','com','ou', 'que','esse','de','da','me','muito','nota'])\n",
    "\n",
    "# Aplicando os nossos dados ao vectorizer para que seja retirado as stop_words e que seja produzido uma matriz de contagem de token de acordo com as features obtidas.\n",
    "vectorizer.fit(frase)\n",
    "\n",
    "# Mostrando as características(features) da matriz que será usada na contagem de tokens.\n",
    "print(vectorizer.get_feature_names())"
   ]
  },
  {
   "cell_type": "code",
   "execution_count": 293,
   "id": "1a6f2ef4-92d3-44bb-ae77-be2b1c7ebbfa",
   "metadata": {},
   "outputs": [
    {
     "name": "stdout",
     "output_type": "stream",
     "text": [
      "[[0 0 0 0 0 1 0 0 0 0 0 0 0 0 0 0 0 0 0 0 0 0 0 0 0 0 0 0 0 0 0 0 1 0 0 0\n",
      "  0 0]\n",
      " [0 0 0 0 0 0 0 0 0 0 0 0 0 0 1 0 0 0 0 0 0 0 0 0 0 0 1 0 0 0 0 0 1 0 0 0\n",
      "  0 0]\n",
      " [1 0 0 0 0 1 0 1 0 0 0 0 0 0 0 0 0 0 0 0 0 0 0 0 0 0 0 0 0 0 0 0 0 1 0 0\n",
      "  0 0]\n",
      " [0 0 0 0 0 0 0 0 0 0 0 0 0 0 0 0 0 0 0 0 0 1 1 0 0 0 1 0 1 0 0 0 0 0 0 0\n",
      "  0 0]\n",
      " [0 0 1 0 0 0 0 0 0 0 0 0 0 1 0 0 0 0 0 1 0 0 1 1 0 0 0 0 0 0 0 0 0 0 0 0\n",
      "  0 0]\n",
      " [0 1 0 0 0 0 1 0 0 1 0 0 0 0 0 0 1 0 0 0 0 0 1 0 0 0 0 0 0 0 0 0 0 0 0 0\n",
      "  0 0]\n",
      " [0 0 0 0 0 0 0 0 0 0 0 0 0 0 1 0 0 0 0 0 0 0 0 0 0 0 1 0 0 0 1 0 0 0 0 1\n",
      "  0 0]\n",
      " [0 0 0 1 0 1 0 0 0 0 0 0 0 0 0 0 0 0 0 0 0 0 0 0 1 0 0 1 0 1 0 0 0 0 0 0\n",
      "  0 0]\n",
      " [0 0 0 0 0 0 0 0 1 0 0 0 0 0 0 1 0 0 0 0 0 0 1 0 0 0 0 0 0 0 0 0 1 0 0 0\n",
      "  0 0]\n",
      " [0 0 0 1 0 0 0 0 0 0 0 0 0 0 0 0 0 1 0 0 0 0 0 1 1 0 0 0 0 0 0 0 0 0 0 0\n",
      "  0 0]\n",
      " [0 0 0 0 0 0 0 0 0 0 0 1 1 0 0 0 0 0 1 0 1 0 0 0 1 1 0 0 0 0 0 1 0 0 0 0\n",
      "  1 0]\n",
      " [0 0 0 0 1 0 0 0 0 0 1 0 0 0 0 0 0 0 0 0 0 0 0 0 0 0 1 0 0 0 0 0 0 0 1 0\n",
      "  0 1]]\n"
     ]
    }
   ],
   "source": [
    "# Realizanto a transformação das frases em matriz de termo de documento.\n",
    "X = vectorizer.transform(frase)\n",
    "\n",
    "# Vetorizando a matriz de termo de documento.\n",
    "X=X.toarray()\n",
    "\n",
    "# Mostrando os vetores que serão utilizado para treinar o modelo, cada conjunto representa uma frase do dataset e a contagem das repetiçoes de acordo com as caracteristicas da matriz obtida no vectorizer.fit.\n",
    "print(X)"
   ]
  },
  {
   "cell_type": "markdown",
   "id": "cbade97d-6470-4cb0-b13a-17313e0cd069",
   "metadata": {},
   "source": [
    "#### **Treinando modelo utilizando o Naive Bayes Multinomial**"
   ]
  },
  {
   "cell_type": "markdown",
   "id": "2612badb-0d00-43b6-a265-bceace7eafa2",
   "metadata": {},
   "source": [
    "#### https://scikit-learn.org/stable/modules/generated/sklearn.naive_bayes.MultinomialNB.html"
   ]
  },
  {
   "cell_type": "code",
   "execution_count": 259,
   "id": "2d6020d5-6314-4bc6-99ec-5ced76d737df",
   "metadata": {},
   "outputs": [
    {
     "data": {
      "text/plain": [
       "MultinomialNB()"
      ]
     },
     "execution_count": 259,
     "metadata": {},
     "output_type": "execute_result"
    }
   ],
   "source": [
    "# Treinando o modelo MultinomialNB com os dados da variavel X obtido após a vetorização.\n",
    "# A variavél classe representa a classificação real das frases em 1(Positivo) e 0(Negativo).\n",
    "mnb = MultinomialNB()\n",
    "mnb.fit(X,classe)"
   ]
  },
  {
   "cell_type": "code",
   "execution_count": 294,
   "id": "275d7aa8-4a54-4205-9979-e391ff5fa523",
   "metadata": {},
   "outputs": [],
   "source": [
    "# Função que realiza as seguintes etapas:\n",
    "# 1° Recebe uma string como dado e armazena em uma lista.\n",
    "# 2° Realiza a transformação do dado em matriz de termo de documento realizando a contagem da repetição dos tokens de acordo com as caracteristicas obtidas no vectorizer.fit e transforma em vetor.\n",
    "# 3° Aplica o produto no modelo de predição.\n",
    "# 4° Realiza a analise da predição e retorna o resultado de acordo com os parametros obtidos. \n",
    "\n",
    "def classifica_mnb(x:str):\n",
    "    x = [x]\n",
    "    y = vectorizer.transform(x).toarray()\n",
    "    pred = mnb.predict(y)\n",
    "    pred_prob = mnb.predict_proba(y)\n",
    "    \n",
    "    print(x, \"Predição:\",pred[0],\"\\n\")\n",
    "    if pred == 1 and pred_prob[0][1]>0.5:print(\"A frase foi classificada como positiva!\\nCom a probabilidade de ser %\",round(pred_prob[0][1]*100,2),\"positiva!\")\n",
    "    elif pred_prob[0][0] and pred_prob[0][1] == 0.5:print(\"Não é possivél determinar!\")\n",
    "    else:print(\"A frase foi classificada como negativa!\\nCom a probabilidade de ser %\",round(pred_prob[0][0]*100,2),\"negativa!\")"
   ]
  },
  {
   "cell_type": "code",
   "execution_count": 295,
   "id": "b758bf6f-68bc-46cb-a380-0b577decc562",
   "metadata": {},
   "outputs": [
    {
     "name": "stdout",
     "output_type": "stream",
     "text": [
      "['Excelente serviço!'] Predição: 1 \n",
      "\n",
      "A frase foi classificada como positiva!\n",
      "Com a probabilidade de ser % 62.58 positiva!\n"
     ]
    }
   ],
   "source": [
    "# Realizando uma predição utilizando a funcção classifica_mnb\n",
    "\n",
    "classifica_mnb(\"Excelente serviço!\")"
   ]
  },
  {
   "cell_type": "markdown",
   "id": "121024bb-68eb-472d-b725-cb67fc7ba8d7",
   "metadata": {},
   "source": [
    "#### **Passo a passo da transformação em matriz de documento e vetorização de uma frase.**"
   ]
  },
  {
   "cell_type": "code",
   "execution_count": 297,
   "id": "99a88ca7-fe52-4686-9337-561a5205f6e1",
   "metadata": {},
   "outputs": [
    {
     "name": "stdout",
     "output_type": "stream",
     "text": [
      "[[1 0 1 0 0 0 0 0 0 0 0 0 0 1 0 0 0 0 0 1 0 0 0 0 0 0 1 0 0 0 0 0 1 0 1 0\n",
      "  0 0]]\n",
      "[[0 0 0 1 0 0 0 0 0 0 0 0 0 0 0 0 0 0 0 0 0 0 0 1 0 0 0 0 0 0 0 0 1 0 0 0\n",
      "  0 0]]\n"
     ]
    }
   ],
   "source": [
    "# Realizando a matriz de documento de uma frase positiva fora do conjunto de treinamento.\n",
    "test1 = [\"O serviço atendeu minhas expectativas, recomendo! Nota 10 a todos!\"]\n",
    "Y = vectorizer.transform(test1)\n",
    "\n",
    "# Vetorização.\n",
    "Y = Y.toarray()\n",
    "\n",
    "# Realizando a matriz de documento de uma frase negativa fora do conjunto de treinamento.\n",
    "test2 = [\"O serviço me decepcionou demais, horrivel, atendimento péssimo.\"]\n",
    "Y2 = vectorizer.transform(test2)\n",
    "\n",
    "# Vetorização.\n",
    "Y2 = Y2.toarray()\n",
    "\n",
    "# Frases em formato de matriz de documento e vetorizadas.\n",
    "print(Y)\n",
    "print(Y2)"
   ]
  },
  {
   "cell_type": "code",
   "execution_count": null,
   "id": "d0e4b627-f82c-4ceb-9f6a-ec1315e7eb2f",
   "metadata": {},
   "outputs": [],
   "source": []
  }
 ],
 "metadata": {
  "kernelspec": {
   "display_name": "Python 3 (ipykernel)",
   "language": "python",
   "name": "python3"
  },
  "language_info": {
   "codemirror_mode": {
    "name": "ipython",
    "version": 3
   },
   "file_extension": ".py",
   "mimetype": "text/x-python",
   "name": "python",
   "nbconvert_exporter": "python",
   "pygments_lexer": "ipython3",
   "version": "3.9.7"
  }
 },
 "nbformat": 4,
 "nbformat_minor": 5
}
