{
 "cells": [
  {
   "cell_type": "markdown",
   "id": "9699fb9a-62ff-450b-a8ef-1115d5560811",
   "metadata": {},
   "source": [
    "## **IMPORTAÇÕES**"
   ]
  },
  {
   "cell_type": "code",
   "execution_count": 45,
   "id": "a2e83c05-437e-4288-bdd6-b7b6c52d0695",
   "metadata": {},
   "outputs": [],
   "source": [
    "import numpy as np\n",
    "import matplotlib.pyplot as plt\n",
    "import sklearn.metrics\n",
    "from sklearn.linear_model import LogisticRegression\n",
    "from sklearn.metrics import accuracy_score\n",
    "from sklearn.metrics import plot_confusion_matrix\n",
    "from sklearn.metrics import precision_score\n",
    "from sklearn.metrics import recall_score\n",
    "from sklearn.metrics import f1_score"
   ]
  },
  {
   "cell_type": "markdown",
   "id": "3a3c924a-2a5b-45ea-ab4d-8bd6ad71cac7",
   "metadata": {},
   "source": [
    "## **DADOS**"
   ]
  },
  {
   "cell_type": "code",
   "execution_count": 4,
   "id": "058da775-5e23-43c1-823d-a10d06b020bd",
   "metadata": {},
   "outputs": [],
   "source": [
    "# Dados no plano 2D\n",
    "c=np.array([[2,3],[5,9],[3,5],[1,3],[4,3],[3,6],[0.5,2],[7,2]])\n",
    "\n",
    "# Classe real de cada dado\n",
    "x=np.array([0,0,0,0,1,1,1,1])"
   ]
  },
  {
   "cell_type": "code",
   "execution_count": 5,
   "id": "f78f8908-1f3a-412c-878d-d718f725b753",
   "metadata": {},
   "outputs": [
    {
     "data": {
      "image/png": "[encoded data removed]",
      "text/plain": [
       "<Figure size 432x288 with 1 Axes>"
      ]
     },
     "metadata": {
      "needs_background": "light"
     },
     "output_type": "display_data"
    }
   ],
   "source": [
    "# Plotagem dos dados em um plano\n",
    "cor=[\"bo\",\"ro\"]\n",
    "plt.title(\"Dados\")\n",
    "for i in range(len(c)):\n",
    "    plt.text(c[i,0]+0.1,c[i,1],str(i))\n",
    "    plt.plot(c[i,0],c[i,1],cor[x[i]])\n",
    "plt.show()"
   ]
  },
  {
   "cell_type": "markdown",
   "id": "f072af4a-0d74-41d6-8f0c-a4551b49c35c",
   "metadata": {},
   "source": [
    "## **TREINANDO MODELO**\n",
    "---"
   ]
  },
  {
   "cell_type": "markdown",
   "id": "80224177-d1e3-4c9a-9df7-e1cf3b887492",
   "metadata": {},
   "source": [
    "##### https://scikit-learn.org/stable/modules/generated/sklearn.linear_model.LogisticRegression.html"
   ]
  },
  {
   "cell_type": "code",
   "execution_count": 6,
   "id": "1b6a0ed7-8670-42e9-9656-58b4cebdc019",
   "metadata": {},
   "outputs": [],
   "source": [
    "#Variável com Regressão Logistica\n",
    "pred_reglog= LogisticRegression()"
   ]
  },
  {
   "cell_type": "code",
   "execution_count": 7,
   "id": "59d23116-1490-400a-a1a1-6ea6a5652c0f",
   "metadata": {},
   "outputs": [
    {
     "data": {
      "text/plain": [
       "LogisticRegression()"
      ]
     },
     "execution_count": 7,
     "metadata": {},
     "output_type": "execute_result"
    }
   ],
   "source": [
    "# Aplicando dados de treinamento\n",
    "pred_reglog.fit(c,x)"
   ]
  },
  {
   "cell_type": "code",
   "execution_count": 8,
   "id": "41686562-6318-4c1a-be0b-add8ae114d2e",
   "metadata": {},
   "outputs": [
    {
     "name": "stdout",
     "output_type": "stream",
     "text": [
      "1 0\n",
      "0 0\n",
      "0 0\n",
      "0 0\n",
      "1 1\n",
      "0 1\n",
      "1 1\n",
      "1 1\n"
     ]
    }
   ],
   "source": [
    "# Realizando predição\n",
    "pred_rl= pred_reglog.predict(c)\n",
    "\n",
    "# Comparação entre a classe real e o que o modelo classificou\n",
    "for i in range(len(c)):\n",
    "    print(pred_rl[i],x[i])"
   ]
  },
  {
   "cell_type": "markdown",
   "id": "0590326b-a997-4594-94d4-943de2f35d7e",
   "metadata": {},
   "source": [
    "## **MÉTRICAS OBTIDA NO MODELO**"
   ]
  },
  {
   "cell_type": "markdown",
   "id": "6299eef2-a9cb-45d9-951d-e0898c3fd6ee",
   "metadata": {},
   "source": [
    "### **Acúracia**"
   ]
  },
  {
   "cell_type": "code",
   "execution_count": 9,
   "id": "34abfc70-a9cf-47e7-ab4d-11a35ad9e907",
   "metadata": {},
   "outputs": [
    {
     "name": "stdout",
     "output_type": "stream",
     "text": [
      "Acurácia: 75.0%\n"
     ]
    }
   ],
   "source": [
    "# Função de acurácia\n",
    "def accuracy(x,y):\n",
    "    acertos=0\n",
    "    for i in range(len(x)):\n",
    "        if x[i]==y[i]:acertos+=1\n",
    "    return str(acertos/len(x)*100)+\"%\"\n",
    "\n",
    "print(\n",
    "    \"Acurácia:\" ,\n",
    "    accuracy(pred_rl,x))"
   ]
  },
  {
   "cell_type": "code",
   "execution_count": 10,
   "id": "01934615-0426-479f-925a-50f9ea4aa0e9",
   "metadata": {},
   "outputs": [
    {
     "data": {
      "text/plain": [
       "0.75"
      ]
     },
     "execution_count": 10,
     "metadata": {},
     "output_type": "execute_result"
    }
   ],
   "source": [
    "# Acurácia no parâmentro importado do lib sklearn\n",
    "accuracy_score(pred_rl,x)"
   ]
  },
  {
   "cell_type": "markdown",
   "id": "fef64c16-c1ef-4707-9914-ad7e25ccb4e5",
   "metadata": {},
   "source": [
    "### **Matriz de confusão**\n",
    "---"
   ]
  },
  {
   "cell_type": "markdown",
   "id": "87812cd9-f9d0-490f-8417-a51bfe9732a4",
   "metadata": {},
   "source": [
    "##### https://scikit-learn.org/stable/modules/generated/sklearn.metrics.plot_confusion_matrix.html"
   ]
  },
  {
   "cell_type": "markdown",
   "id": "1de53150-9c5f-48f0-90be-7a3fc806c520",
   "metadata": {},
   "source": [
    "##### ***Manual***"
   ]
  },
  {
   "cell_type": "code",
   "execution_count": 11,
   "id": "b151e381-2172-4542-94d3-5d822fd0c4e1",
   "metadata": {},
   "outputs": [],
   "source": [
    "# Matriz de confusão\n",
    "\n",
    "def matriz_confusion(x,y):\n",
    "    tp,fp,tn,fn=0,0,0,0\n",
    "    for i in range(len(x)):\n",
    "        if x[i]==1 and y[i]==1:tp+=1\n",
    "        elif x[i]==1 and y[i]==0:fp+=1\n",
    "        elif x[i]==0 and y[i]==0:tn+=1\n",
    "        else:fn+=1\n",
    "    return tp,fp,tn,fn"
   ]
  },
  {
   "cell_type": "code",
   "execution_count": 12,
   "id": "84c04080-b44e-415e-a01d-e7c1a48f0534",
   "metadata": {},
   "outputs": [
    {
     "name": "stdout",
     "output_type": "stream",
     "text": [
      "3 1\n",
      "1 3\n"
     ]
    }
   ],
   "source": [
    "# Salvando os valores na variavel\n",
    "tp,fp,tn,fn=matriz_confusion(x,pred_rl)\n",
    "\n",
    "# Print matriz de confusão\n",
    "print(tp,fn)\n",
    "print(fp,tn)"
   ]
  },
  {
   "cell_type": "markdown",
   "id": "1cc5fa88-46ca-4828-9635-c14e2a260b97",
   "metadata": {},
   "source": [
    "##### ***Automático***"
   ]
  },
  {
   "cell_type": "code",
   "execution_count": 50,
   "id": "97cc732b-4e6d-4306-aaa7-7a477ef5ce83",
   "metadata": {},
   "outputs": [
    {
     "data": {
      "text/plain": [
       "<sklearn.metrics._plot.confusion_matrix.ConfusionMatrixDisplay at 0x2335f89c2e0>"
      ]
     },
     "execution_count": 50,
     "metadata": {},
     "output_type": "execute_result"
    },
    {
     "data": {
      "image/png": "[encoded data removed]",
      "text/plain": [
       "<Figure size 432x288 with 2 Axes>"
      ]
     },
     "metadata": {
      "needs_background": "light"
     },
     "output_type": "display_data"
    }
   ],
   "source": [
    "# Matriz de confusão direto pelo sklearn\n",
    "plot_confusion_matrix(pred_reglog,c,x)"
   ]
  },
  {
   "cell_type": "markdown",
   "id": "4d5f0674-43f3-4473-a9f7-28ccd6db6ee9",
   "metadata": {},
   "source": [
    "### **Precision**\n",
    "---"
   ]
  },
  {
   "cell_type": "markdown",
   "id": "4b26d192-8f8f-4d7c-a282-ffdcfc8dad95",
   "metadata": {},
   "source": [
    "##### https://scikit-learn.org/stable/modules/generated/sklearn.metrics.precision_score.html"
   ]
  },
  {
   "cell_type": "markdown",
   "id": "1da74803-eade-4f9f-a087-b61a19332dcb",
   "metadata": {},
   "source": [
    "##### ***Manual***"
   ]
  },
  {
   "cell_type": "code",
   "execution_count": 15,
   "id": "4b07fe83-821b-49d5-9f86-79101fff8c2a",
   "metadata": {},
   "outputs": [],
   "source": [
    "# Fórmula precision\n",
    "\n",
    "def f_precision(tp,fp):\n",
    "    return tp/(tp+fp)"
   ]
  },
  {
   "cell_type": "code",
   "execution_count": 39,
   "id": "4035f28c-7268-4c1f-8299-f7d6da87a002",
   "metadata": {},
   "outputs": [
    {
     "name": "stdout",
     "output_type": "stream",
     "text": [
      "0.75\n"
     ]
    }
   ],
   "source": [
    "valor_precision=f_precision(tp,fp)\n",
    "print(valor_precision)"
   ]
  },
  {
   "cell_type": "markdown",
   "id": "9015ae08-d2b9-4da6-a11a-d6ddd31dde94",
   "metadata": {},
   "source": [
    "##### ***Automático***"
   ]
  },
  {
   "cell_type": "code",
   "execution_count": 27,
   "id": "af425638-f21f-46c1-af0a-8f37b1e29c04",
   "metadata": {},
   "outputs": [
    {
     "data": {
      "text/plain": [
       "0.75"
      ]
     },
     "execution_count": 27,
     "metadata": {},
     "output_type": "execute_result"
    }
   ],
   "source": [
    "# Fórmuca através do sklearn\n",
    "\n",
    "precision_score(x,pred_rl)"
   ]
  },
  {
   "cell_type": "markdown",
   "id": "752cb2a1-ea4d-4751-9ef5-00938b95ce7b",
   "metadata": {},
   "source": [
    "### **Recall**\n",
    "---"
   ]
  },
  {
   "cell_type": "markdown",
   "id": "d789c87e-5882-4ffa-a5db-b04d7dbe57b5",
   "metadata": {
    "tags": []
   },
   "source": [
    "##### https://scikit-learn.org/stable/modules/generated/sklearn.metrics.recall_score.html"
   ]
  },
  {
   "cell_type": "markdown",
   "id": "8928793d-fb44-4477-a2f4-6920becb5f07",
   "metadata": {},
   "source": [
    "##### ***Manual***"
   ]
  },
  {
   "cell_type": "code",
   "execution_count": 29,
   "id": "41587413-8008-4a9a-8409-210a8260e108",
   "metadata": {},
   "outputs": [],
   "source": [
    "# Fórmula manual\n",
    "\n",
    "def recall(tp,fn):\n",
    "    return tp/(tp+fn)"
   ]
  },
  {
   "cell_type": "code",
   "execution_count": 37,
   "id": "69f5d510-efbf-4a29-a588-1c85b4b503b3",
   "metadata": {},
   "outputs": [
    {
     "name": "stdout",
     "output_type": "stream",
     "text": [
      "0.75\n"
     ]
    }
   ],
   "source": [
    "valor_recall=recall(tp,fn)\n",
    "print(valor_recall)"
   ]
  },
  {
   "cell_type": "markdown",
   "id": "62d45f15-2711-4f5f-82be-f3ad095fc45f",
   "metadata": {},
   "source": [
    "##### ***Automático***"
   ]
  },
  {
   "cell_type": "code",
   "execution_count": 33,
   "id": "59b8a714-9a9a-49bd-84bb-0bc58fda6679",
   "metadata": {},
   "outputs": [
    {
     "data": {
      "text/plain": [
       "0.75"
      ]
     },
     "execution_count": 33,
     "metadata": {},
     "output_type": "execute_result"
    }
   ],
   "source": [
    "recall_score(x,pred_rl)"
   ]
  },
  {
   "cell_type": "markdown",
   "id": "86c03890-784c-4aeb-bc81-40d50abe213e",
   "metadata": {},
   "source": [
    "### **F1-Score**\n",
    "---"
   ]
  },
  {
   "cell_type": "markdown",
   "id": "6dea050e-9950-4a4f-a20b-cfa80fef5349",
   "metadata": {},
   "source": [
    "##### https://scikit-learn.org/stable/modules/generated/sklearn.metrics.f1_score.html"
   ]
  },
  {
   "cell_type": "markdown",
   "id": "65b5a896-a076-47dc-b6e1-659fcc4a444a",
   "metadata": {},
   "source": [
    "##### ***Manual***"
   ]
  },
  {
   "cell_type": "code",
   "execution_count": 42,
   "id": "ec63fbd9-1744-4942-a466-2637520b80fb",
   "metadata": {},
   "outputs": [],
   "source": [
    "# Fórmula manual\n",
    "\n",
    "def f1_score_manual(precision,recall):\n",
    "    return 2*precision*recall/(precision + recall)"
   ]
  },
  {
   "cell_type": "code",
   "execution_count": 43,
   "id": "d713df10-e145-436d-bbaf-efa54eae2a98",
   "metadata": {},
   "outputs": [
    {
     "data": {
      "text/plain": [
       "0.75"
      ]
     },
     "execution_count": 43,
     "metadata": {},
     "output_type": "execute_result"
    }
   ],
   "source": [
    "f1_score_manual(valor_precision,valor_recall)"
   ]
  },
  {
   "cell_type": "markdown",
   "id": "8cadec81-a0a1-46e2-a3a9-4164721640d2",
   "metadata": {},
   "source": [
    "##### ***Automático***"
   ]
  },
  {
   "cell_type": "code",
   "execution_count": 46,
   "id": "7ce6e959-8c6f-414d-bb09-bc96cf518bdf",
   "metadata": {},
   "outputs": [
    {
     "data": {
      "text/plain": [
       "0.75"
      ]
     },
     "execution_count": 46,
     "metadata": {},
     "output_type": "execute_result"
    }
   ],
   "source": [
    "f1_score(x,pred_rl)"
   ]
  },
  {
   "cell_type": "markdown",
   "id": "75e9d376-451c-43a7-b7ad-1d68bfb40030",
   "metadata": {},
   "source": [
    "## **PREDIÇÃO DE DADOS**"
   ]
  },
  {
   "cell_type": "code",
   "execution_count": 18,
   "id": "1c401350-a088-452a-8880-3e82dc453aaa",
   "metadata": {},
   "outputs": [
    {
     "data": {
      "text/plain": [
       "array([[0.21398567, 0.78601433]])"
      ]
     },
     "execution_count": 18,
     "metadata": {},
     "output_type": "execute_result"
    }
   ],
   "source": [
    "# Verificando a probabilidade de novos dados com predict_proba do LogistiRegression\n",
    "# Retorna um array com a probabilidade de ser 0 (Negativo) e 1 (Positivo)\n",
    "pred_reglog.predict_proba([[6.4,4.1]])"
   ]
  },
  {
   "cell_type": "code",
   "execution_count": 19,
   "id": "6fedd80e-8e02-48c7-9503-c0572e4832fe",
   "metadata": {},
   "outputs": [
    {
     "data": {
      "text/plain": [
       "array([1])"
      ]
     },
     "execution_count": 19,
     "metadata": {},
     "output_type": "execute_result"
    }
   ],
   "source": [
    "# Realizando a predição de um novo dado, de acordo com o valor de threshould e do predict_proba ele realiza a predição.\n",
    "# Retorna um array com 0 ou 1.\n",
    "pred_reglog.predict([[9,8]])"
   ]
  },
  {
   "cell_type": "markdown",
   "id": "77d87344-42e1-436f-b273-5f5aec85c3ff",
   "metadata": {},
   "source": [
    "## **PLOTANDO RETA DA REGRESSÃO LOGISTÍCA**"
   ]
  },
  {
   "cell_type": "markdown",
   "id": "a0fafeef-115c-4974-8110-8f14381833aa",
   "metadata": {},
   "source": [
    "#### **Obtendo os thetas 0, 1 e 2**"
   ]
  },
  {
   "cell_type": "code",
   "execution_count": 20,
   "id": "bb1c649b-00ca-450a-89c4-7e40d66e2cec",
   "metadata": {},
   "outputs": [
    {
     "name": "stdout",
     "output_type": "stream",
     "text": [
      "Theta0 0.7159310938640121 \n",
      "Theta1 0.37884990659470175 \n",
      "Theta2 -0.44865963383336166\n"
     ]
    }
   ],
   "source": [
    "# Verificando e obtendo Thetas 0, 1 e 2\n",
    "# Theta 0 se obtém a partir do LogisticRegression.intercept()\n",
    "# Theta 1 e 2 se obtém através do LogisticRegression.coef_()\n",
    "print(\n",
    "      \"Theta0 \" + str(pred_reglog.intercept_[0]),\"\\n\"\n",
    "      \"Theta1 \" + str(pred_reglog.coef_[0][0]),\"\\n\"\n",
    "      \"Theta2 \" + str(pred_reglog.coef_[0][1])\n",
    "     )\n",
    "\n",
    "# Salvando thetas nas váriaveis\n",
    "theta0=float(pred_reglog.intercept_[0])\n",
    "theta1=float(pred_reglog.coef_[0][0])\n",
    "theta2=float(pred_reglog.coef_[0][1])"
   ]
  },
  {
   "cell_type": "code",
   "execution_count": 21,
   "id": "9db5647b-de5e-4546-9980-9bbeda0361e5",
   "metadata": {},
   "outputs": [],
   "source": [
    "# Fórmula para definir X2\n",
    "# x2= -(theta1/theta2)x1-theta0/theta2\n",
    "def x2(x1,theta0,theta1,theta2):\n",
    "    return -(theta1/theta2)*x1-theta0/theta2"
   ]
  },
  {
   "cell_type": "markdown",
   "id": "207a79bf-c4b3-46fc-99ea-7d95df761101",
   "metadata": {},
   "source": [
    "### **Plotagem da reta**"
   ]
  },
  {
   "cell_type": "code",
   "execution_count": 22,
   "id": "8d4da514-dd5f-40c2-93e9-a8b52dad9c1c",
   "metadata": {},
   "outputs": [
    {
     "data": {
      "image/png": "[encoded data removed]",
      "text/plain": [
       "<Figure size 432x288 with 1 Axes>"
      ]
     },
     "metadata": {
      "needs_background": "light"
     },
     "output_type": "display_data"
    }
   ],
   "source": [
    "# Plotagem da reta Regressão de logistica com os dados da predição pred_rl\n",
    "cor=\"bo\",\"ro\"\n",
    "\n",
    "for i in range(len(c)):\n",
    "    plt.text(c[i,0]+0.1,c[i,1],str(i)),\n",
    "    plt.plot(c[i,0],c[i,1],cor[pred_rl[i]]),\n",
    "    plt.plot([0,7],[x2(0,theta0,theta1,theta2),x2(7,theta0,theta1,theta2)], color=\"black\")\n",
    "plt.show()"
   ]
  },
  {
   "cell_type": "code",
   "execution_count": 23,
   "id": "38f7829c-a7af-4c56-a5a8-02895096966d",
   "metadata": {},
   "outputs": [
    {
     "data": {
      "image/png": "[encoded data removed]",
      "text/plain": [
       "<Figure size 432x288 with 1 Axes>"
      ]
     },
     "metadata": {
      "needs_background": "light"
     },
     "output_type": "display_data"
    }
   ],
   "source": [
    "# Plotagem dos dados com a classificação real\n",
    "for i in range(len(c)):\n",
    "    plt.text(c[i,0]+0.1,c[i,1],str(i)),\n",
    "    plt.plot(c[i,0],c[i,1],cor[x[i]])\n",
    "    plt.plot([0,7],[x2(0,theta0,theta1,theta2),x2(7,theta0,theta1,theta2)], color=\"black\")\n",
    "plt.show()"
   ]
  }
 ],
 "metadata": {
  "kernelspec": {
   "display_name": "Python 3 (ipykernel)",
   "language": "python",
   "name": "python3"
  },
  "language_info": {
   "codemirror_mode": {
    "name": "ipython",
    "version": 3
   },
   "file_extension": ".py",
   "mimetype": "text/x-python",
   "name": "python",
   "nbconvert_exporter": "python",
   "pygments_lexer": "ipython3",
   "version": "3.9.7"
  }
 },
 "nbformat": 4,
 "nbformat_minor": 5
}
